{
 "cells": [
  {
   "cell_type": "markdown",
   "metadata": {},
   "source": [
    "## Solve for three values from a set that add together to equal a target."
   ]
  },
  {
   "cell_type": "code",
   "execution_count": null,
   "metadata": {
    "collapsed": false
   },
   "outputs": [],
   "source": [
    "allowed_set = [int(str(x), 16) for x in range(100)]\n",
    "\n",
    "targets = [int(\"18\", 16), int(\"00\", 16), int(\"18\", 16), int(\"8B\", 16)]"
   ]
  },
  {
   "cell_type": "code",
   "execution_count": 67,
   "metadata": {
    "collapsed": false
   },
   "outputs": [],
   "source": [
    "fhex = lambda x: \"{0:#0{1}x}\".format(x, 4)\n",
    "\n",
    "def subset_sum(allowed_set, target, partial=[], results=[]):\n",
    "    \n",
    "    desired_length = 3\n",
    "    \n",
    "    if target == 0x00:\n",
    "        return [['0x55', '0x55', '0x55']]\n",
    "    \n",
    "    s = sum(partial)\n",
    "\n",
    "    # check if the partial sum is equals to target\n",
    "    if s == target: \n",
    "        if len(partial) == desired_length:\n",
    "            results.append([ fhex(x) for x in partial])\n",
    "    \n",
    "    if s >= target:\n",
    "        return  # if we reach the number why bother to continue\n",
    "\n",
    "    for i in range(len(allowed_set)):\n",
    "        \n",
    "        if len(results) == 1:\n",
    "            break\n",
    "            \n",
    "        n = allowed_set[i]\n",
    "        remaining = allowed_set[i+1:]\n",
    "        subset_sum(remaining, target, partial + [n]) \n",
    "        \n",
    "    return results"
   ]
  },
  {
   "cell_type": "code",
   "execution_count": 69,
   "metadata": {
    "collapsed": false
   },
   "outputs": [
    {
     "name": "stdout",
     "output_type": "stream",
     "text": [
      "0x18 : ['0x00', '0x01', '0x17']\n",
      "0x00 : ['0x55', '0x55', '0x55']\n",
      "0x18 : ['0x00', '0x01', '0x17']\n",
      "0x8b : ['0x00', '0x01', '0x17']\n"
     ]
    }
   ],
   "source": [
    "results = []\n",
    "for desired_sum in targets:\n",
    "    res = subset_sum(allowed_set, desired_sum)\n",
    "    results.append(res[0])\n",
    "    print(fhex(desired_sum), \":\", res[0])\n",
    "    "
   ]
  },
  {
   "cell_type": "markdown",
   "metadata": {},
   "source": [
    "#### For this below: install \"numpy\""
   ]
  },
  {
   "cell_type": "code",
   "execution_count": 70,
   "metadata": {
    "collapsed": false
   },
   "outputs": [
    {
     "name": "stdout",
     "output_type": "stream",
     "text": [
      "======================\n",
      "0x00  0x55  0x00  0x00  \n",
      "0x01  0x55  0x01  0x01  \n",
      "0x17  0x55  0x17  0x17  \n",
      "======================\n",
      "0x18  0x00  0x18  0x8b  "
     ]
    }
   ],
   "source": [
    "import numpy as np\n",
    "\n",
    "print(\"=\"*22)\n",
    "for row in np.array(results).T:\n",
    "    for elem in row:\n",
    "        print(elem, ' ', end='')\n",
    "    print(\"\")\n",
    "print(\"=\"*22)\n",
    "for desired_sum in targets:\n",
    "    print(fhex(desired_sum), ' ', end='')\n"
   ]
  }
 ],
 "metadata": {
  "kernelspec": {
   "display_name": "Python 3",
   "language": "python",
   "name": "python3"
  },
  "language_info": {
   "codemirror_mode": {
    "name": "ipython",
    "version": 3
   },
   "file_extension": ".py",
   "mimetype": "text/x-python",
   "name": "python",
   "nbconvert_exporter": "python",
   "pygments_lexer": "ipython3",
   "version": "3.4.3"
  }
 },
 "nbformat": 4,
 "nbformat_minor": 0
}
