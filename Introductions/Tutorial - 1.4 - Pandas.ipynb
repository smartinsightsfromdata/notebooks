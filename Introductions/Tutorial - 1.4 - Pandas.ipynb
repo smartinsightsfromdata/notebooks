{
 "cells": [
  {
   "cell_type": "markdown",
   "metadata": {
    "collapsed": true
   },
   "source": [
    "## Pandas\n",
    "\n",
    "http://pandas.pydata.org/\n",
    "\n",
    "Data analysis library that introduces the concepts of data-frames and series to Python. Powerful tool for time-series analysis and fast visualizations of data.\n",
    "\n",
    "Excellent introduction by the author: https://vimeo.com/59324550\n",
    "\n",
    "\n",
    "### Software development rigor applied to spread-sheets.\n",
    "\n",
    "http://www.eusprig.org/horror-stories.htm\n",
    "\n",
    "\n",
    "See pages 131-132 of the JP Morgan Task Force Report \"...further errors were discovered in the Basel II.5 model, including, most significantly, an operational error in the calculation of the relative changes in hazard rates and correlation estimates. Specifically, after subtracting the old rate from the new rate, the spreadsheet divided by their sum instead of their average, as the modeler had intended. This error likely had the effect of muting volatility by a factor of two and of lowering the VaR\" \n",
    "\n",
    "As reported in \"A tempest in a spreadsheet\" http://ftalphaville.ft.com/2013/01/17/1342082/a-tempest-in-a-spreadsheet/? Lisa Pollack comments \"On a number of occasions, he asked the trader to whom he reported for additional resources to support his work on the VaR model, but he did not receive any. Also it appears that he (had to?) cut a number of corners, which resulted increased operational risk and artificially low volatility numbers ... pressure was put on the reviewers to get on with approving the model\"\n",
    "\n",
    "- - - "
   ]
  },
  {
   "cell_type": "code",
   "execution_count": 18,
   "metadata": {
    "collapsed": true
   },
   "outputs": [],
   "source": [
    "import pandas as pd\n",
    "import numpy as np"
   ]
  },
  {
   "cell_type": "code",
   "execution_count": 19,
   "metadata": {
    "collapsed": false
   },
   "outputs": [
    {
     "data": {
      "text/plain": [
       "array([[ 0.56915116,  0.35195334,  0.65817698,  0.10906893,  0.6758529 ],\n",
       "       [ 0.87859716,  0.42080817,  0.68735679,  0.95687725,  0.40429561],\n",
       "       [ 0.82651561,  0.21193236,  0.74035219,  0.72569012,  0.93913254],\n",
       "       [ 0.13527403,  0.67155329,  0.5845691 ,  0.52337725,  0.24351929],\n",
       "       [ 0.71046173,  0.17962049,  0.07790674,  0.09488657,  0.48951089]])"
      ]
     },
     "execution_count": 19,
     "metadata": {},
     "output_type": "execute_result"
    }
   ],
   "source": [
    "data = np.random.rand(5, 5)\n",
    "data"
   ]
  },
  {
   "cell_type": "markdown",
   "metadata": {},
   "source": [
    "Matrix representation of data, proivided by numpy, often isn't enough and this is where Pandas can help, through the introduction of a \"data-frame\", which is a tabular representation."
   ]
  },
  {
   "cell_type": "code",
   "execution_count": 20,
   "metadata": {
    "collapsed": false
   },
   "outputs": [
    {
     "data": {
      "text/html": [
       "<div style=\"max-height:1000px;max-width:1500px;overflow:auto;\">\n",
       "<table border=\"1\" class=\"dataframe\">\n",
       "  <thead>\n",
       "    <tr style=\"text-align: right;\">\n",
       "      <th></th>\n",
       "      <th>0</th>\n",
       "      <th>1</th>\n",
       "      <th>2</th>\n",
       "      <th>3</th>\n",
       "      <th>4</th>\n",
       "    </tr>\n",
       "  </thead>\n",
       "  <tbody>\n",
       "    <tr>\n",
       "      <th>0</th>\n",
       "      <td> 0.569151</td>\n",
       "      <td> 0.351953</td>\n",
       "      <td> 0.658177</td>\n",
       "      <td> 0.109069</td>\n",
       "      <td> 0.675853</td>\n",
       "    </tr>\n",
       "    <tr>\n",
       "      <th>1</th>\n",
       "      <td> 0.878597</td>\n",
       "      <td> 0.420808</td>\n",
       "      <td> 0.687357</td>\n",
       "      <td> 0.956877</td>\n",
       "      <td> 0.404296</td>\n",
       "    </tr>\n",
       "    <tr>\n",
       "      <th>2</th>\n",
       "      <td> 0.826516</td>\n",
       "      <td> 0.211932</td>\n",
       "      <td> 0.740352</td>\n",
       "      <td> 0.725690</td>\n",
       "      <td> 0.939133</td>\n",
       "    </tr>\n",
       "    <tr>\n",
       "      <th>3</th>\n",
       "      <td> 0.135274</td>\n",
       "      <td> 0.671553</td>\n",
       "      <td> 0.584569</td>\n",
       "      <td> 0.523377</td>\n",
       "      <td> 0.243519</td>\n",
       "    </tr>\n",
       "    <tr>\n",
       "      <th>4</th>\n",
       "      <td> 0.710462</td>\n",
       "      <td> 0.179620</td>\n",
       "      <td> 0.077907</td>\n",
       "      <td> 0.094887</td>\n",
       "      <td> 0.489511</td>\n",
       "    </tr>\n",
       "  </tbody>\n",
       "</table>\n",
       "</div>"
      ],
      "text/plain": [
       "          0         1         2         3         4\n",
       "0  0.569151  0.351953  0.658177  0.109069  0.675853\n",
       "1  0.878597  0.420808  0.687357  0.956877  0.404296\n",
       "2  0.826516  0.211932  0.740352  0.725690  0.939133\n",
       "3  0.135274  0.671553  0.584569  0.523377  0.243519\n",
       "4  0.710462  0.179620  0.077907  0.094887  0.489511"
      ]
     },
     "execution_count": 20,
     "metadata": {},
     "output_type": "execute_result"
    }
   ],
   "source": [
    "pd.DataFrame(data)"
   ]
  },
  {
   "cell_type": "code",
   "execution_count": 21,
   "metadata": {
    "collapsed": false
   },
   "outputs": [
    {
     "data": {
      "text/html": [
       "<div style=\"max-height:1000px;max-width:1500px;overflow:auto;\">\n",
       "<table border=\"1\" class=\"dataframe\">\n",
       "  <thead>\n",
       "    <tr style=\"text-align: right;\">\n",
       "      <th></th>\n",
       "      <th>a</th>\n",
       "      <th>b</th>\n",
       "      <th>c</th>\n",
       "      <th>d</th>\n",
       "      <th>e</th>\n",
       "    </tr>\n",
       "  </thead>\n",
       "  <tbody>\n",
       "    <tr>\n",
       "      <th>0</th>\n",
       "      <td> 0.569151</td>\n",
       "      <td> 0.351953</td>\n",
       "      <td> 0.658177</td>\n",
       "      <td> 0.109069</td>\n",
       "      <td> 0.675853</td>\n",
       "    </tr>\n",
       "    <tr>\n",
       "      <th>1</th>\n",
       "      <td> 0.878597</td>\n",
       "      <td> 0.420808</td>\n",
       "      <td> 0.687357</td>\n",
       "      <td> 0.956877</td>\n",
       "      <td> 0.404296</td>\n",
       "    </tr>\n",
       "    <tr>\n",
       "      <th>2</th>\n",
       "      <td> 0.826516</td>\n",
       "      <td> 0.211932</td>\n",
       "      <td> 0.740352</td>\n",
       "      <td> 0.725690</td>\n",
       "      <td> 0.939133</td>\n",
       "    </tr>\n",
       "    <tr>\n",
       "      <th>3</th>\n",
       "      <td> 0.135274</td>\n",
       "      <td> 0.671553</td>\n",
       "      <td> 0.584569</td>\n",
       "      <td> 0.523377</td>\n",
       "      <td> 0.243519</td>\n",
       "    </tr>\n",
       "    <tr>\n",
       "      <th>4</th>\n",
       "      <td> 0.710462</td>\n",
       "      <td> 0.179620</td>\n",
       "      <td> 0.077907</td>\n",
       "      <td> 0.094887</td>\n",
       "      <td> 0.489511</td>\n",
       "    </tr>\n",
       "  </tbody>\n",
       "</table>\n",
       "</div>"
      ],
      "text/plain": [
       "          a         b         c         d         e\n",
       "0  0.569151  0.351953  0.658177  0.109069  0.675853\n",
       "1  0.878597  0.420808  0.687357  0.956877  0.404296\n",
       "2  0.826516  0.211932  0.740352  0.725690  0.939133\n",
       "3  0.135274  0.671553  0.584569  0.523377  0.243519\n",
       "4  0.710462  0.179620  0.077907  0.094887  0.489511"
      ]
     },
     "execution_count": 21,
     "metadata": {},
     "output_type": "execute_result"
    }
   ],
   "source": [
    "table = pd.DataFrame(data, columns=[\"a\",\"b\",\"c\",\"d\",\"e\"])\n",
    "table"
   ]
  },
  {
   "cell_type": "markdown",
   "metadata": {},
   "source": [
    "Note the automatic selection of an index (left hand column). This can be used to pull out rows of interest."
   ]
  },
  {
   "cell_type": "code",
   "execution_count": 22,
   "metadata": {
    "collapsed": false
   },
   "outputs": [
    {
     "data": {
      "text/plain": [
       "a    0.569151\n",
       "b    0.351953\n",
       "c    0.658177\n",
       "d    0.109069\n",
       "e    0.675853\n",
       "Name: 0, dtype: float64"
      ]
     },
     "execution_count": 22,
     "metadata": {},
     "output_type": "execute_result"
    }
   ],
   "source": [
    "table.ix[0]"
   ]
  },
  {
   "cell_type": "markdown",
   "metadata": {},
   "source": [
    "Similarly we can select data from columns."
   ]
  },
  {
   "cell_type": "code",
   "execution_count": 23,
   "metadata": {
    "collapsed": false
   },
   "outputs": [
    {
     "data": {
      "text/plain": [
       "0    0.569151\n",
       "1    0.878597\n",
       "2    0.826516\n",
       "3    0.135274\n",
       "4    0.710462\n",
       "Name: a, dtype: float64"
      ]
     },
     "execution_count": 23,
     "metadata": {},
     "output_type": "execute_result"
    }
   ],
   "source": [
    "table[\"a\"]"
   ]
  },
  {
   "cell_type": "code",
   "execution_count": 24,
   "metadata": {
    "collapsed": false
   },
   "outputs": [
    {
     "data": {
      "text/html": [
       "<div style=\"max-height:1000px;max-width:1500px;overflow:auto;\">\n",
       "<table border=\"1\" class=\"dataframe\">\n",
       "  <thead>\n",
       "    <tr style=\"text-align: right;\">\n",
       "      <th></th>\n",
       "      <th>a</th>\n",
       "      <th>e</th>\n",
       "    </tr>\n",
       "  </thead>\n",
       "  <tbody>\n",
       "    <tr>\n",
       "      <th>0</th>\n",
       "      <td> 0.569151</td>\n",
       "      <td> 0.675853</td>\n",
       "    </tr>\n",
       "    <tr>\n",
       "      <th>1</th>\n",
       "      <td> 0.878597</td>\n",
       "      <td> 0.404296</td>\n",
       "    </tr>\n",
       "    <tr>\n",
       "      <th>2</th>\n",
       "      <td> 0.826516</td>\n",
       "      <td> 0.939133</td>\n",
       "    </tr>\n",
       "    <tr>\n",
       "      <th>3</th>\n",
       "      <td> 0.135274</td>\n",
       "      <td> 0.243519</td>\n",
       "    </tr>\n",
       "    <tr>\n",
       "      <th>4</th>\n",
       "      <td> 0.710462</td>\n",
       "      <td> 0.489511</td>\n",
       "    </tr>\n",
       "  </tbody>\n",
       "</table>\n",
       "</div>"
      ],
      "text/plain": [
       "          a         e\n",
       "0  0.569151  0.675853\n",
       "1  0.878597  0.404296\n",
       "2  0.826516  0.939133\n",
       "3  0.135274  0.243519\n",
       "4  0.710462  0.489511"
      ]
     },
     "execution_count": 24,
     "metadata": {},
     "output_type": "execute_result"
    }
   ],
   "source": [
    "table[[\"a\",\"e\"]]"
   ]
  },
  {
   "cell_type": "markdown",
   "metadata": {},
   "source": [
    "A table behave similarly to a numpy array (in fact underneath it is a nd-array), meaning we can use fancy indexing:"
   ]
  },
  {
   "cell_type": "code",
   "execution_count": 25,
   "metadata": {
    "collapsed": false
   },
   "outputs": [
    {
     "data": {
      "text/html": [
       "<div style=\"max-height:1000px;max-width:1500px;overflow:auto;\">\n",
       "<table border=\"1\" class=\"dataframe\">\n",
       "  <thead>\n",
       "    <tr style=\"text-align: right;\">\n",
       "      <th></th>\n",
       "      <th>a</th>\n",
       "      <th>b</th>\n",
       "      <th>c</th>\n",
       "      <th>d</th>\n",
       "      <th>e</th>\n",
       "    </tr>\n",
       "  </thead>\n",
       "  <tbody>\n",
       "    <tr>\n",
       "      <th>0</th>\n",
       "      <td>      NaN</td>\n",
       "      <td>      NaN</td>\n",
       "      <td> 0.658177</td>\n",
       "      <td>      NaN</td>\n",
       "      <td> 0.675853</td>\n",
       "    </tr>\n",
       "    <tr>\n",
       "      <th>1</th>\n",
       "      <td> 0.878597</td>\n",
       "      <td>      NaN</td>\n",
       "      <td> 0.687357</td>\n",
       "      <td> 0.956877</td>\n",
       "      <td>      NaN</td>\n",
       "    </tr>\n",
       "    <tr>\n",
       "      <th>2</th>\n",
       "      <td> 0.826516</td>\n",
       "      <td>      NaN</td>\n",
       "      <td> 0.740352</td>\n",
       "      <td> 0.725690</td>\n",
       "      <td> 0.939133</td>\n",
       "    </tr>\n",
       "    <tr>\n",
       "      <th>3</th>\n",
       "      <td>      NaN</td>\n",
       "      <td> 0.671553</td>\n",
       "      <td>      NaN</td>\n",
       "      <td>      NaN</td>\n",
       "      <td>      NaN</td>\n",
       "    </tr>\n",
       "    <tr>\n",
       "      <th>4</th>\n",
       "      <td> 0.710462</td>\n",
       "      <td>      NaN</td>\n",
       "      <td>      NaN</td>\n",
       "      <td>      NaN</td>\n",
       "      <td>      NaN</td>\n",
       "    </tr>\n",
       "  </tbody>\n",
       "</table>\n",
       "</div>"
      ],
      "text/plain": [
       "          a         b         c         d         e\n",
       "0       NaN       NaN  0.658177       NaN  0.675853\n",
       "1  0.878597       NaN  0.687357  0.956877       NaN\n",
       "2  0.826516       NaN  0.740352  0.725690  0.939133\n",
       "3       NaN  0.671553       NaN       NaN       NaN\n",
       "4  0.710462       NaN       NaN       NaN       NaN"
      ]
     },
     "execution_count": 25,
     "metadata": {},
     "output_type": "execute_result"
    }
   ],
   "source": [
    "missing_data = table[table > 0.6]\n",
    "missing_data"
   ]
  },
  {
   "cell_type": "code",
   "execution_count": null,
   "metadata": {
    "collapsed": true
   },
   "outputs": [],
   "source": []
  }
 ],
 "metadata": {
  "kernelspec": {
   "display_name": "Python 3",
   "language": "python",
   "name": "python3"
  },
  "language_info": {
   "codemirror_mode": {
    "name": "ipython",
    "version": 3
   },
   "file_extension": ".py",
   "mimetype": "text/x-python",
   "name": "python",
   "nbconvert_exporter": "python",
   "pygments_lexer": "ipython3",
   "version": "3.4.3"
  }
 },
 "nbformat": 4,
 "nbformat_minor": 0
}
