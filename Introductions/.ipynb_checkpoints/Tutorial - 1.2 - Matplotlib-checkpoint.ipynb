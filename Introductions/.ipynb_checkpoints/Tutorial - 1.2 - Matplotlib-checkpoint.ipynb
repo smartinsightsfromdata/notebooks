{
 "cells": [
  {
   "cell_type": "markdown",
   "metadata": {},
   "source": [
    "## Matplotlib\n",
    "\n",
    "http://matplotlib.org/\n",
    "\n",
    "A graphics library that can be used to form publication quality figures.\n",
    "\n",
    "For a comprehensive set of examples, refer to this material:\n",
    "\n",
    "http://matplotlib.org/gallery.html\n"
   ]
  },
  {
   "cell_type": "code",
   "execution_count": null,
   "metadata": {
    "collapsed": true
   },
   "outputs": [],
   "source": []
  }
 ],
 "metadata": {
  "kernelspec": {
   "display_name": "Python 3",
   "language": "python",
   "name": "python3"
  },
  "language_info": {
   "codemirror_mode": {
    "name": "ipython",
    "version": 3
   },
   "file_extension": ".py",
   "mimetype": "text/x-python",
   "name": "python",
   "nbconvert_exporter": "python",
   "pygments_lexer": "ipython3",
   "version": "3.4.3"
  }
 },
 "nbformat": 4,
 "nbformat_minor": 0
}
